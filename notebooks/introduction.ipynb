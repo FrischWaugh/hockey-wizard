{
 "cells": [
  {
   "cell_type": "markdown",
   "metadata": {},
   "source": [
    "### Ce notebook permet simplement à l'utilisateur de tester sa connexion à la BD Hockey-Wizard!"
   ]
  },
  {
   "cell_type": "code",
   "execution_count": 1,
   "metadata": {},
   "outputs": [],
   "source": [
    "from google.cloud import storage\n",
    "from google.cloud import bigquery\n",
    "from google.oauth2 import service_account\n",
    "import db_dtypes\n",
    "import pandas as pd\n",
    "import os"
   ]
  },
  {
   "cell_type": "code",
   "execution_count": 2,
   "metadata": {},
   "outputs": [],
   "source": [
    "# Change dir to parent dir\n",
    "os.chdir(\"..\")\n",
    "# Generate credentials.\n",
    "gcp_cred = service_account.Credentials.from_service_account_file('gcloud_private_key.json')"
   ]
  },
  {
   "cell_type": "code",
   "execution_count": 7,
   "metadata": {},
   "outputs": [
    {
     "data": {
      "text/html": [
       "<div>\n",
       "<style scoped>\n",
       "    .dataframe tbody tr th:only-of-type {\n",
       "        vertical-align: middle;\n",
       "    }\n",
       "\n",
       "    .dataframe tbody tr th {\n",
       "        vertical-align: top;\n",
       "    }\n",
       "\n",
       "    .dataframe thead th {\n",
       "        text-align: right;\n",
       "    }\n",
       "</style>\n",
       "<table border=\"1\" class=\"dataframe\">\n",
       "  <thead>\n",
       "    <tr style=\"text-align: right;\">\n",
       "      <th></th>\n",
       "      <th>season</th>\n",
       "      <th>gameDate</th>\n",
       "      <th>gameID</th>\n",
       "      <th>gameType</th>\n",
       "      <th>homeScore</th>\n",
       "      <th>homeTeamID</th>\n",
       "      <th>awayScore</th>\n",
       "      <th>awayTeamID</th>\n",
       "    </tr>\n",
       "  </thead>\n",
       "  <tbody>\n",
       "    <tr>\n",
       "      <th>0</th>\n",
       "      <td>20212022</td>\n",
       "      <td>2021-09-25</td>\n",
       "      <td>2021010001</td>\n",
       "      <td>PR</td>\n",
       "      <td>4</td>\n",
       "      <td>10</td>\n",
       "      <td>1</td>\n",
       "      <td>8</td>\n",
       "    </tr>\n",
       "    <tr>\n",
       "      <th>1</th>\n",
       "      <td>20212022</td>\n",
       "      <td>2021-09-25</td>\n",
       "      <td>2021010002</td>\n",
       "      <td>PR</td>\n",
       "      <td>6</td>\n",
       "      <td>19</td>\n",
       "      <td>2</td>\n",
       "      <td>30</td>\n",
       "    </tr>\n",
       "    <tr>\n",
       "      <th>2</th>\n",
       "      <td>20212022</td>\n",
       "      <td>2021-09-26</td>\n",
       "      <td>2021010003</td>\n",
       "      <td>PR</td>\n",
       "      <td>5</td>\n",
       "      <td>13</td>\n",
       "      <td>4</td>\n",
       "      <td>18</td>\n",
       "    </tr>\n",
       "    <tr>\n",
       "      <th>3</th>\n",
       "      <td>20212022</td>\n",
       "      <td>2021-09-26</td>\n",
       "      <td>2021010004</td>\n",
       "      <td>PR</td>\n",
       "      <td>2</td>\n",
       "      <td>15</td>\n",
       "      <td>3</td>\n",
       "      <td>6</td>\n",
       "    </tr>\n",
       "    <tr>\n",
       "      <th>4</th>\n",
       "      <td>20212022</td>\n",
       "      <td>2021-09-26</td>\n",
       "      <td>2021010005</td>\n",
       "      <td>PR</td>\n",
       "      <td>3</td>\n",
       "      <td>13</td>\n",
       "      <td>1</td>\n",
       "      <td>18</td>\n",
       "    </tr>\n",
       "  </tbody>\n",
       "</table>\n",
       "</div>"
      ],
      "text/plain": [
       "     season    gameDate      gameID gameType  homeScore  homeTeamID  \\\n",
       "0  20212022  2021-09-25  2021010001       PR          4          10   \n",
       "1  20212022  2021-09-25  2021010002       PR          6          19   \n",
       "2  20212022  2021-09-26  2021010003       PR          5          13   \n",
       "3  20212022  2021-09-26  2021010004       PR          2          15   \n",
       "4  20212022  2021-09-26  2021010005       PR          3          13   \n",
       "\n",
       "   awayScore  awayTeamID  \n",
       "0          1           8  \n",
       "1          2          30  \n",
       "2          4          18  \n",
       "3          3           6  \n",
       "4          1          18  "
      ]
     },
     "execution_count": 7,
     "metadata": {},
     "output_type": "execute_result"
    }
   ],
   "source": [
    "# Construct a BigQuery client object.\n",
    "client = bigquery.Client(credentials=gcp_cred)\n",
    "\n",
    "# Build query\n",
    "query = \"\"\"\n",
    "    SELECT *\n",
    "    FROM HW_DB.schedule_game_results\n",
    "    LIMIT 5\n",
    "\"\"\"\n",
    "query_job = client.query(query)  # Make an API request.\n",
    "\n",
    "df = query_job.to_dataframe()\n",
    "df.head()"
   ]
  }
 ],
 "metadata": {
  "kernelspec": {
   "display_name": "Python 3.10.4 64-bit",
   "language": "python",
   "name": "python3"
  },
  "language_info": {
   "codemirror_mode": {
    "name": "ipython",
    "version": 3
   },
   "file_extension": ".py",
   "mimetype": "text/x-python",
   "name": "python",
   "nbconvert_exporter": "python",
   "pygments_lexer": "ipython3",
   "version": "3.10.4"
  },
  "orig_nbformat": 4,
  "vscode": {
   "interpreter": {
    "hash": "7e1998ff7f8aa20ada591c520b972326324e5ea05489af9e422744c7c09f6dad"
   }
  }
 },
 "nbformat": 4,
 "nbformat_minor": 2
}
